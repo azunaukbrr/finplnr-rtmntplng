{
 "cells": [
  {
   "cell_type": "markdown",
   "metadata": {},
   "source": [
    "# Unit 5 - Financial Planning\n"
   ]
  },
  {
   "cell_type": "code",
   "execution_count": 1,
   "metadata": {},
   "outputs": [],
   "source": [
    "# Initial imports\n",
    "import os\n",
    "import requests\n",
    "import pandas as pd\n",
    "from dotenv import load_dotenv\n",
    "import alpaca_trade_api as tradeapi\n",
    "from MCForecastTools import MCSimulation\n",
    "import json\n",
    "%matplotlib inline"
   ]
  },
  {
   "cell_type": "code",
   "execution_count": 54,
   "metadata": {},
   "outputs": [],
   "source": [
    "# Load .env enviroment variables\n",
    "load_dotenv()"
   ]
  },
  {
   "cell_type": "markdown",
   "metadata": {},
   "source": [
    "## Part 1 - Personal Finance Planner"
   ]
  },
  {
   "cell_type": "markdown",
   "metadata": {},
   "source": [
    "### Collect Crypto Prices Using the `requests` Library"
   ]
  },
  {
   "cell_type": "code",
   "execution_count": 2,
   "metadata": {},
   "outputs": [],
   "source": [
    "# Set current amount of crypto assets\n",
    "my_btc = 1.2\n",
    "my_eth = 5.3"
   ]
  },
  {
   "cell_type": "code",
   "execution_count": 3,
   "metadata": {},
   "outputs": [],
   "source": [
    "# Crypto API URLs\n",
    "btc_url = \"https://api.alternative.me/v2/ticker/Bitcoin/?convert=CAD?format=json\"\n",
    "eth_url = \"https://api.alternative.me/v2/ticker/Ethereum/?convert=CAD?format=json\"\n"
   ]
  },
  {
   "cell_type": "code",
   "execution_count": 4,
   "metadata": {},
   "outputs": [
    {
     "name": "stdout",
     "output_type": "stream",
     "text": [
      "The current value of your 1.2 BTC is $69322.80\n",
      "The current value of your 5.3 ETH is $11619.24\n"
     ]
    }
   ],
   "source": [
    "# Fetch current BTC price\n",
    "btc_current_price = requests.get(btc_url)\n",
    "\n",
    "# Fetch current ETH price\n",
    "eth_current_price = requests.get(eth_url)\n",
    "\n",
    "# Convert output to JSON\n",
    "btc_data_json = btc_current_price.json()\n",
    "eth_data_json = eth_current_price.json()\n",
    "\n",
    "btc_price_list = btc_data_json['data']['1']['quotes']['USD']['price']\n",
    "eth_price_list = eth_data_json['data']['1027']['quotes']['USD']['price']\n",
    "\n",
    "# Compute current value of my crpto\n",
    "my_btc_value = my_btc * btc_price_list\n",
    "my_eth_value = my_eth * eth_price_list\n",
    "\n",
    "# Print current crypto wallet balance\n",
    "print(f\"The current value of your {my_btc} BTC is ${my_btc_value:0.2f}\")\n",
    "print(f\"The current value of your {my_eth} ETH is ${my_eth_value:0.2f}\")\n",
    "\n"
   ]
  },
  {
   "cell_type": "markdown",
   "metadata": {},
   "source": [
    "### Collect Investments Data Using Alpaca: `SPY` (stocks) and `AGG` (bonds)"
   ]
  },
  {
   "cell_type": "code",
   "execution_count": 5,
   "metadata": {},
   "outputs": [],
   "source": [
    "# Current amount of shares\n",
    "my_spy = 50\n",
    "my_agg = 200"
   ]
  },
  {
   "cell_type": "code",
   "execution_count": 6,
   "metadata": {},
   "outputs": [],
   "source": [
    "# Set Alpaca API key and secret\n",
    "alpaca_api_key = os.getenv(\"ALPACA_API_KEY\")\n",
    "alpaca_secret_key = os.getenv(\"ALPACA_SECRET_KEY\")\n",
    "\n",
    "\n",
    "# Create the Alpaca API object\n",
    "api = tradeapi.REST(\n",
    "    alpaca_api_key,\n",
    "    alpaca_secret_key,\n",
    "    api_version = \"v2\"\n",
    ")"
   ]
  },
  {
   "cell_type": "code",
   "execution_count": 7,
   "metadata": {},
   "outputs": [
    {
     "data": {
      "text/html": [
       "<div>\n",
       "<style scoped>\n",
       "    .dataframe tbody tr th:only-of-type {\n",
       "        vertical-align: middle;\n",
       "    }\n",
       "\n",
       "    .dataframe tbody tr th {\n",
       "        vertical-align: top;\n",
       "    }\n",
       "\n",
       "    .dataframe thead tr th {\n",
       "        text-align: left;\n",
       "    }\n",
       "\n",
       "    .dataframe thead tr:last-of-type th {\n",
       "        text-align: right;\n",
       "    }\n",
       "</style>\n",
       "<table border=\"1\" class=\"dataframe\">\n",
       "  <thead>\n",
       "    <tr>\n",
       "      <th></th>\n",
       "      <th colspan=\"5\" halign=\"left\">AGG</th>\n",
       "      <th colspan=\"5\" halign=\"left\">SPY</th>\n",
       "    </tr>\n",
       "    <tr>\n",
       "      <th></th>\n",
       "      <th>open</th>\n",
       "      <th>high</th>\n",
       "      <th>low</th>\n",
       "      <th>close</th>\n",
       "      <th>volume</th>\n",
       "      <th>open</th>\n",
       "      <th>high</th>\n",
       "      <th>low</th>\n",
       "      <th>close</th>\n",
       "      <th>volume</th>\n",
       "    </tr>\n",
       "    <tr>\n",
       "      <th>time</th>\n",
       "      <th></th>\n",
       "      <th></th>\n",
       "      <th></th>\n",
       "      <th></th>\n",
       "      <th></th>\n",
       "      <th></th>\n",
       "      <th></th>\n",
       "      <th></th>\n",
       "      <th></th>\n",
       "      <th></th>\n",
       "    </tr>\n",
       "  </thead>\n",
       "  <tbody>\n",
       "    <tr>\n",
       "      <th>2021-04-16 00:00:00-04:00</th>\n",
       "      <td>114.56</td>\n",
       "      <td>114.665</td>\n",
       "      <td>114.5</td>\n",
       "      <td>114.54</td>\n",
       "      <td>3488514</td>\n",
       "      <td>417.25</td>\n",
       "      <td>417.91</td>\n",
       "      <td>415.73</td>\n",
       "      <td>417.31</td>\n",
       "      <td>66624780</td>\n",
       "    </tr>\n",
       "  </tbody>\n",
       "</table>\n",
       "</div>"
      ],
      "text/plain": [
       "                              AGG                                      SPY  \\\n",
       "                             open     high    low   close   volume    open   \n",
       "time                                                                         \n",
       "2021-04-16 00:00:00-04:00  114.56  114.665  114.5  114.54  3488514  417.25   \n",
       "\n",
       "                                                             \n",
       "                             high     low   close    volume  \n",
       "time                                                         \n",
       "2021-04-16 00:00:00-04:00  417.91  415.73  417.31  66624780  "
      ]
     },
     "execution_count": 7,
     "metadata": {},
     "output_type": "execute_result"
    }
   ],
   "source": [
    "# Format current date as ISO format\n",
    "current_date= pd.Timestamp(\"2021-04-16\", tz=\"America/New_York\").isoformat()\n",
    "\n",
    "# Set the tickers\n",
    "tickers = [\"AGG\", \"SPY\"]\n",
    "\n",
    "# Set timeframe to '1D' for Alpaca API\n",
    "timeframe = \"1D\"\n",
    "\n",
    "# Get current closing prices for SPY and AGG\n",
    "df_portfolio = api.get_barset(\n",
    "    tickers,\n",
    "    timeframe,\n",
    "    start = current_date,\n",
    "    end = current_date\n",
    ").df\n",
    "\n",
    "# Preview DataFrame\n",
    "df_portfolio"
   ]
  },
  {
   "cell_type": "code",
   "execution_count": 8,
   "metadata": {},
   "outputs": [
    {
     "name": "stdout",
     "output_type": "stream",
     "text": [
      "Current AGG closing price: $114.54\n",
      "Current SPY closing price: $417.31\n"
     ]
    }
   ],
   "source": [
    "# Pick AGG and SPY close prices\n",
    "agg_close_price = df_portfolio[\"AGG\"][\"close\"].item()\n",
    "spy_close_price = df_portfolio[\"SPY\"][\"close\"].item()\n",
    "\n",
    "# Print AGG and SPY close prices\n",
    "print(f\"Current AGG closing price: ${agg_close_price}\")\n",
    "print(f\"Current SPY closing price: ${spy_close_price}\")"
   ]
  },
  {
   "cell_type": "code",
   "execution_count": 9,
   "metadata": {},
   "outputs": [
    {
     "name": "stdout",
     "output_type": "stream",
     "text": [
      "The current value of your 50 SPY shares is $20865.50\n",
      "The current value of your 200 AGG shares is $22908.00\n"
     ]
    }
   ],
   "source": [
    "# Compute the current value of shares\n",
    "my_spy_value = my_spy * spy_close_price\n",
    "my_agg_value = my_agg * agg_close_price\n",
    "\n",
    "# Print current value of share\n",
    "print(f\"The current value of your {my_spy} SPY shares is ${my_spy_value:0.2f}\")\n",
    "print(f\"The current value of your {my_agg} AGG shares is ${my_agg_value:0.2f}\")"
   ]
  },
  {
   "cell_type": "markdown",
   "metadata": {},
   "source": [
    "### Savings Health Analysis"
   ]
  },
  {
   "cell_type": "code",
   "execution_count": 10,
   "metadata": {},
   "outputs": [
    {
     "data": {
      "text/html": [
       "<div>\n",
       "<style scoped>\n",
       "    .dataframe tbody tr th:only-of-type {\n",
       "        vertical-align: middle;\n",
       "    }\n",
       "\n",
       "    .dataframe tbody tr th {\n",
       "        vertical-align: top;\n",
       "    }\n",
       "\n",
       "    .dataframe thead th {\n",
       "        text-align: right;\n",
       "    }\n",
       "</style>\n",
       "<table border=\"1\" class=\"dataframe\">\n",
       "  <thead>\n",
       "    <tr style=\"text-align: right;\">\n",
       "      <th></th>\n",
       "      <th>amount</th>\n",
       "    </tr>\n",
       "  </thead>\n",
       "  <tbody>\n",
       "    <tr>\n",
       "      <th>crypto</th>\n",
       "      <td>80942.043</td>\n",
       "    </tr>\n",
       "    <tr>\n",
       "      <th>shares</th>\n",
       "      <td>43773.500</td>\n",
       "    </tr>\n",
       "  </tbody>\n",
       "</table>\n",
       "</div>"
      ],
      "text/plain": [
       "           amount\n",
       "crypto  80942.043\n",
       "shares  43773.500"
      ]
     },
     "metadata": {},
     "output_type": "display_data"
    }
   ],
   "source": [
    "# Set monthly household income\n",
    "monthly_income = 12000\n",
    "\n",
    "# Create savings DataFrame\n",
    "df_savings = pd.DataFrame({'amount': [my_btc_value + my_eth_value, my_spy_value + my_agg_value]},index=['crypto','shares'])\n",
    "\n",
    "# Display savings DataFrame\n",
    "display(df_savings)"
   ]
  },
  {
   "cell_type": "code",
   "execution_count": 11,
   "metadata": {},
   "outputs": [
    {
     "data": {
      "text/plain": [
       "array([<AxesSubplot:ylabel='amount'>], dtype=object)"
      ]
     },
     "execution_count": 11,
     "metadata": {},
     "output_type": "execute_result"
    },
    {
     "data": {
      "image/png": "[encoded data removed]",
      "text/plain": [
       "<Figure size 432x288 with 1 Axes>"
      ]
     },
     "metadata": {},
     "output_type": "display_data"
    }
   ],
   "source": [
    "# Plot savings pie chart\n",
    "df_savings.plot(kind='pie', subplots=True)"
   ]
  },
  {
   "cell_type": "code",
   "execution_count": 12,
   "metadata": {},
   "outputs": [
    {
     "name": "stdout",
     "output_type": "stream",
     "text": [
      "Congratulations on having enough money in your emergency fund.\n"
     ]
    }
   ],
   "source": [
    "# Set ideal emergency fund\n",
    "emergency_fund = monthly_income * 3\n",
    "\n",
    "# Calculate total amount of savings\n",
    "total_savings = df_savings.sum().item()\n",
    "\n",
    "# Validate saving health\n",
    "if total_savings > emergency_fund:\n",
    "    print(\"Congratulations on having enough money in your emergency fund.\")\n",
    "elif total_savings == emergency_fund:\n",
    "    print(\"Congratulations on having adequate funds in your emergency fund.\")\n",
    "else:\n",
    "    print(f'You are short of ${emergency_fund - total_savings} from maintaining adequate funds in your emergency fund.')"
   ]
  },
  {
   "cell_type": "markdown",
   "metadata": {},
   "source": [
    "## Part 2 - Retirement Planning\n",
    "\n",
    "### Monte Carlo Simulation"
   ]
  },
  {
   "cell_type": "code",
   "execution_count": 13,
   "metadata": {},
   "outputs": [],
   "source": [
    "# Set start and end dates of five years back from today.\n",
    "# Sample results may vary from the solution based on the time frame chosen\n",
    "start_date = pd.Timestamp('2016-04-16', tz='America/New_York').isoformat()\n",
    "end_date = pd.Timestamp('2021-04-16', tz='America/New_York').isoformat()"
   ]
  },
  {
   "cell_type": "code",
   "execution_count": 14,
   "metadata": {},
   "outputs": [
    {
     "data": {
      "text/html": [
       "<div>\n",
       "<style scoped>\n",
       "    .dataframe tbody tr th:only-of-type {\n",
       "        vertical-align: middle;\n",
       "    }\n",
       "\n",
       "    .dataframe tbody tr th {\n",
       "        vertical-align: top;\n",
       "    }\n",
       "\n",
       "    .dataframe thead tr th {\n",
       "        text-align: left;\n",
       "    }\n",
       "\n",
       "    .dataframe thead tr:last-of-type th {\n",
       "        text-align: right;\n",
       "    }\n",
       "</style>\n",
       "<table border=\"1\" class=\"dataframe\">\n",
       "  <thead>\n",
       "    <tr>\n",
       "      <th></th>\n",
       "      <th colspan=\"5\" halign=\"left\">AGG</th>\n",
       "      <th colspan=\"5\" halign=\"left\">SPY</th>\n",
       "    </tr>\n",
       "    <tr>\n",
       "      <th></th>\n",
       "      <th>open</th>\n",
       "      <th>high</th>\n",
       "      <th>low</th>\n",
       "      <th>close</th>\n",
       "      <th>volume</th>\n",
       "      <th>open</th>\n",
       "      <th>high</th>\n",
       "      <th>low</th>\n",
       "      <th>close</th>\n",
       "      <th>volume</th>\n",
       "    </tr>\n",
       "    <tr>\n",
       "      <th>time</th>\n",
       "      <th></th>\n",
       "      <th></th>\n",
       "      <th></th>\n",
       "      <th></th>\n",
       "      <th></th>\n",
       "      <th></th>\n",
       "      <th></th>\n",
       "      <th></th>\n",
       "      <th></th>\n",
       "      <th></th>\n",
       "    </tr>\n",
       "  </thead>\n",
       "  <tbody>\n",
       "    <tr>\n",
       "      <th>2020-11-20 00:00:00-05:00</th>\n",
       "      <td>118.19</td>\n",
       "      <td>118.340</td>\n",
       "      <td>118.1300</td>\n",
       "      <td>118.29</td>\n",
       "      <td>5496191</td>\n",
       "      <td>357.50</td>\n",
       "      <td>357.720</td>\n",
       "      <td>355.250</td>\n",
       "      <td>355.34</td>\n",
       "      <td>47947194</td>\n",
       "    </tr>\n",
       "    <tr>\n",
       "      <th>2020-11-23 00:00:00-05:00</th>\n",
       "      <td>118.28</td>\n",
       "      <td>118.300</td>\n",
       "      <td>118.1734</td>\n",
       "      <td>118.27</td>\n",
       "      <td>3844326</td>\n",
       "      <td>357.28</td>\n",
       "      <td>358.790</td>\n",
       "      <td>354.865</td>\n",
       "      <td>357.47</td>\n",
       "      <td>49938331</td>\n",
       "    </tr>\n",
       "    <tr>\n",
       "      <th>2020-11-24 00:00:00-05:00</th>\n",
       "      <td>118.24</td>\n",
       "      <td>118.280</td>\n",
       "      <td>118.0700</td>\n",
       "      <td>118.09</td>\n",
       "      <td>4113975</td>\n",
       "      <td>360.21</td>\n",
       "      <td>363.805</td>\n",
       "      <td>359.290</td>\n",
       "      <td>363.19</td>\n",
       "      <td>49862168</td>\n",
       "    </tr>\n",
       "    <tr>\n",
       "      <th>2020-11-25 00:00:00-05:00</th>\n",
       "      <td>118.15</td>\n",
       "      <td>118.210</td>\n",
       "      <td>118.0200</td>\n",
       "      <td>118.08</td>\n",
       "      <td>3739909</td>\n",
       "      <td>363.13</td>\n",
       "      <td>363.160</td>\n",
       "      <td>361.480</td>\n",
       "      <td>362.65</td>\n",
       "      <td>35309156</td>\n",
       "    </tr>\n",
       "    <tr>\n",
       "      <th>2020-11-27 00:00:00-05:00</th>\n",
       "      <td>118.25</td>\n",
       "      <td>118.285</td>\n",
       "      <td>118.2200</td>\n",
       "      <td>118.27</td>\n",
       "      <td>4646812</td>\n",
       "      <td>363.84</td>\n",
       "      <td>364.180</td>\n",
       "      <td>362.580</td>\n",
       "      <td>363.65</td>\n",
       "      <td>46840189</td>\n",
       "    </tr>\n",
       "  </tbody>\n",
       "</table>\n",
       "</div>"
      ],
      "text/plain": [
       "                              AGG                                         SPY  \\\n",
       "                             open     high       low   close   volume    open   \n",
       "time                                                                            \n",
       "2020-11-20 00:00:00-05:00  118.19  118.340  118.1300  118.29  5496191  357.50   \n",
       "2020-11-23 00:00:00-05:00  118.28  118.300  118.1734  118.27  3844326  357.28   \n",
       "2020-11-24 00:00:00-05:00  118.24  118.280  118.0700  118.09  4113975  360.21   \n",
       "2020-11-25 00:00:00-05:00  118.15  118.210  118.0200  118.08  3739909  363.13   \n",
       "2020-11-27 00:00:00-05:00  118.25  118.285  118.2200  118.27  4646812  363.84   \n",
       "\n",
       "                                                               \n",
       "                              high      low   close    volume  \n",
       "time                                                           \n",
       "2020-11-20 00:00:00-05:00  357.720  355.250  355.34  47947194  \n",
       "2020-11-23 00:00:00-05:00  358.790  354.865  357.47  49938331  \n",
       "2020-11-24 00:00:00-05:00  363.805  359.290  363.19  49862168  \n",
       "2020-11-25 00:00:00-05:00  363.160  361.480  362.65  35309156  \n",
       "2020-11-27 00:00:00-05:00  364.180  362.580  363.65  46840189  "
      ]
     },
     "execution_count": 14,
     "metadata": {},
     "output_type": "execute_result"
    }
   ],
   "source": [
    "# Get 5 years' worth of historical data for SPY and AGG\n",
    "df_stock_data = api.get_barset(\n",
    "    tickers,\n",
    "    timeframe,\n",
    "    start = start_date,\n",
    "    end = end_date\n",
    ").df\n",
    "\n",
    "# Display sample data\n",
    "df_stock_data.head()"
   ]
  },
  {
   "cell_type": "code",
   "execution_count": 15,
   "metadata": {},
   "outputs": [],
   "source": [
    "# Configuring a Monte Carlo simulation to forecast 30 years cumulative returns\n",
    "MC_30_years = MCSimulation(\n",
    "    portfolio_data = df_stock_data,\n",
    "    weights = [.40,.60],\n",
    "    num_simulation = 500,\n",
    "    num_trading_days = 252*30)"
   ]
  },
  {
   "cell_type": "code",
   "execution_count": 16,
   "metadata": {},
   "outputs": [
    {
     "data": {
      "text/html": [
       "<div>\n",
       "<style scoped>\n",
       "    .dataframe tbody tr th:only-of-type {\n",
       "        vertical-align: middle;\n",
       "    }\n",
       "\n",
       "    .dataframe tbody tr th {\n",
       "        vertical-align: top;\n",
       "    }\n",
       "\n",
       "    .dataframe thead tr th {\n",
       "        text-align: left;\n",
       "    }\n",
       "\n",
       "    .dataframe thead tr:last-of-type th {\n",
       "        text-align: right;\n",
       "    }\n",
       "</style>\n",
       "<table border=\"1\" class=\"dataframe\">\n",
       "  <thead>\n",
       "    <tr>\n",
       "      <th></th>\n",
       "      <th colspan=\"6\" halign=\"left\">AGG</th>\n",
       "      <th colspan=\"6\" halign=\"left\">SPY</th>\n",
       "    </tr>\n",
       "    <tr>\n",
       "      <th></th>\n",
       "      <th>open</th>\n",
       "      <th>high</th>\n",
       "      <th>low</th>\n",
       "      <th>close</th>\n",
       "      <th>volume</th>\n",
       "      <th>daily_return</th>\n",
       "      <th>open</th>\n",
       "      <th>high</th>\n",
       "      <th>low</th>\n",
       "      <th>close</th>\n",
       "      <th>volume</th>\n",
       "      <th>daily_return</th>\n",
       "    </tr>\n",
       "    <tr>\n",
       "      <th>time</th>\n",
       "      <th></th>\n",
       "      <th></th>\n",
       "      <th></th>\n",
       "      <th></th>\n",
       "      <th></th>\n",
       "      <th></th>\n",
       "      <th></th>\n",
       "      <th></th>\n",
       "      <th></th>\n",
       "      <th></th>\n",
       "      <th></th>\n",
       "      <th></th>\n",
       "    </tr>\n",
       "  </thead>\n",
       "  <tbody>\n",
       "    <tr>\n",
       "      <th>2020-11-20 00:00:00-05:00</th>\n",
       "      <td>118.19</td>\n",
       "      <td>118.340</td>\n",
       "      <td>118.1300</td>\n",
       "      <td>118.29</td>\n",
       "      <td>5496191</td>\n",
       "      <td>NaN</td>\n",
       "      <td>357.50</td>\n",
       "      <td>357.720</td>\n",
       "      <td>355.250</td>\n",
       "      <td>355.34</td>\n",
       "      <td>47947194</td>\n",
       "      <td>NaN</td>\n",
       "    </tr>\n",
       "    <tr>\n",
       "      <th>2020-11-23 00:00:00-05:00</th>\n",
       "      <td>118.28</td>\n",
       "      <td>118.300</td>\n",
       "      <td>118.1734</td>\n",
       "      <td>118.27</td>\n",
       "      <td>3844326</td>\n",
       "      <td>-0.000169</td>\n",
       "      <td>357.28</td>\n",
       "      <td>358.790</td>\n",
       "      <td>354.865</td>\n",
       "      <td>357.47</td>\n",
       "      <td>49938331</td>\n",
       "      <td>0.005994</td>\n",
       "    </tr>\n",
       "    <tr>\n",
       "      <th>2020-11-24 00:00:00-05:00</th>\n",
       "      <td>118.24</td>\n",
       "      <td>118.280</td>\n",
       "      <td>118.0700</td>\n",
       "      <td>118.09</td>\n",
       "      <td>4113975</td>\n",
       "      <td>-0.001522</td>\n",
       "      <td>360.21</td>\n",
       "      <td>363.805</td>\n",
       "      <td>359.290</td>\n",
       "      <td>363.19</td>\n",
       "      <td>49862168</td>\n",
       "      <td>0.016001</td>\n",
       "    </tr>\n",
       "    <tr>\n",
       "      <th>2020-11-25 00:00:00-05:00</th>\n",
       "      <td>118.15</td>\n",
       "      <td>118.210</td>\n",
       "      <td>118.0200</td>\n",
       "      <td>118.08</td>\n",
       "      <td>3739909</td>\n",
       "      <td>-0.000085</td>\n",
       "      <td>363.13</td>\n",
       "      <td>363.160</td>\n",
       "      <td>361.480</td>\n",
       "      <td>362.65</td>\n",
       "      <td>35309156</td>\n",
       "      <td>-0.001487</td>\n",
       "    </tr>\n",
       "    <tr>\n",
       "      <th>2020-11-27 00:00:00-05:00</th>\n",
       "      <td>118.25</td>\n",
       "      <td>118.285</td>\n",
       "      <td>118.2200</td>\n",
       "      <td>118.27</td>\n",
       "      <td>4646812</td>\n",
       "      <td>0.001609</td>\n",
       "      <td>363.84</td>\n",
       "      <td>364.180</td>\n",
       "      <td>362.580</td>\n",
       "      <td>363.65</td>\n",
       "      <td>46840189</td>\n",
       "      <td>0.002757</td>\n",
       "    </tr>\n",
       "  </tbody>\n",
       "</table>\n",
       "</div>"
      ],
      "text/plain": [
       "                              AGG                                      \\\n",
       "                             open     high       low   close   volume   \n",
       "time                                                                    \n",
       "2020-11-20 00:00:00-05:00  118.19  118.340  118.1300  118.29  5496191   \n",
       "2020-11-23 00:00:00-05:00  118.28  118.300  118.1734  118.27  3844326   \n",
       "2020-11-24 00:00:00-05:00  118.24  118.280  118.0700  118.09  4113975   \n",
       "2020-11-25 00:00:00-05:00  118.15  118.210  118.0200  118.08  3739909   \n",
       "2020-11-27 00:00:00-05:00  118.25  118.285  118.2200  118.27  4646812   \n",
       "\n",
       "                                           SPY                            \\\n",
       "                          daily_return    open     high      low   close   \n",
       "time                                                                       \n",
       "2020-11-20 00:00:00-05:00          NaN  357.50  357.720  355.250  355.34   \n",
       "2020-11-23 00:00:00-05:00    -0.000169  357.28  358.790  354.865  357.47   \n",
       "2020-11-24 00:00:00-05:00    -0.001522  360.21  363.805  359.290  363.19   \n",
       "2020-11-25 00:00:00-05:00    -0.000085  363.13  363.160  361.480  362.65   \n",
       "2020-11-27 00:00:00-05:00     0.001609  363.84  364.180  362.580  363.65   \n",
       "\n",
       "                                                  \n",
       "                             volume daily_return  \n",
       "time                                              \n",
       "2020-11-20 00:00:00-05:00  47947194          NaN  \n",
       "2020-11-23 00:00:00-05:00  49938331     0.005994  \n",
       "2020-11-24 00:00:00-05:00  49862168     0.016001  \n",
       "2020-11-25 00:00:00-05:00  35309156    -0.001487  \n",
       "2020-11-27 00:00:00-05:00  46840189     0.002757  "
      ]
     },
     "execution_count": 16,
     "metadata": {},
     "output_type": "execute_result"
    }
   ],
   "source": [
    "# Printing the simulation input data\n",
    "MC_30_years.portfolio_data.head()"
   ]
  },
  {
   "cell_type": "code",
   "execution_count": 17,
   "metadata": {},
   "outputs": [
    {
     "name": "stdout",
     "output_type": "stream",
     "text": [
      "Running Monte Carlo simulation number 0.\n",
      "Running Monte Carlo simulation number 10.\n",
      "Running Monte Carlo simulation number 20.\n",
      "Running Monte Carlo simulation number 30.\n",
      "Running Monte Carlo simulation number 40.\n",
      "Running Monte Carlo simulation number 50.\n",
      "Running Monte Carlo simulation number 60.\n",
      "Running Monte Carlo simulation number 70.\n",
      "Running Monte Carlo simulation number 80.\n",
      "Running Monte Carlo simulation number 90.\n",
      "Running Monte Carlo simulation number 100.\n",
      "Running Monte Carlo simulation number 110.\n",
      "Running Monte Carlo simulation number 120.\n",
      "Running Monte Carlo simulation number 130.\n",
      "Running Monte Carlo simulation number 140.\n",
      "Running Monte Carlo simulation number 150.\n",
      "Running Monte Carlo simulation number 160.\n",
      "Running Monte Carlo simulation number 170.\n",
      "Running Monte Carlo simulation number 180.\n",
      "Running Monte Carlo simulation number 190.\n",
      "Running Monte Carlo simulation number 200.\n",
      "Running Monte Carlo simulation number 210.\n",
      "Running Monte Carlo simulation number 220.\n",
      "Running Monte Carlo simulation number 230.\n",
      "Running Monte Carlo simulation number 240.\n",
      "Running Monte Carlo simulation number 250.\n",
      "Running Monte Carlo simulation number 260.\n",
      "Running Monte Carlo simulation number 270.\n",
      "Running Monte Carlo simulation number 280.\n",
      "Running Monte Carlo simulation number 290.\n",
      "Running Monte Carlo simulation number 300.\n",
      "Running Monte Carlo simulation number 310.\n",
      "Running Monte Carlo simulation number 320.\n",
      "Running Monte Carlo simulation number 330.\n",
      "Running Monte Carlo simulation number 340.\n",
      "Running Monte Carlo simulation number 350.\n",
      "Running Monte Carlo simulation number 360.\n",
      "Running Monte Carlo simulation number 370.\n",
      "Running Monte Carlo simulation number 380.\n",
      "Running Monte Carlo simulation number 390.\n",
      "Running Monte Carlo simulation number 400.\n",
      "Running Monte Carlo simulation number 410.\n",
      "Running Monte Carlo simulation number 420.\n",
      "Running Monte Carlo simulation number 430.\n",
      "Running Monte Carlo simulation number 440.\n",
      "Running Monte Carlo simulation number 450.\n",
      "Running Monte Carlo simulation number 460.\n",
      "Running Monte Carlo simulation number 470.\n",
      "Running Monte Carlo simulation number 480.\n",
      "Running Monte Carlo simulation number 490.\n"
     ]
    },
    {
     "data": {
      "text/html": [
       "<div>\n",
       "<style scoped>\n",
       "    .dataframe tbody tr th:only-of-type {\n",
       "        vertical-align: middle;\n",
       "    }\n",
       "\n",
       "    .dataframe tbody tr th {\n",
       "        vertical-align: top;\n",
       "    }\n",
       "\n",
       "    .dataframe thead th {\n",
       "        text-align: right;\n",
       "    }\n",
       "</style>\n",
       "<table border=\"1\" class=\"dataframe\">\n",
       "  <thead>\n",
       "    <tr style=\"text-align: right;\">\n",
       "      <th></th>\n",
       "      <th>0</th>\n",
       "      <th>1</th>\n",
       "      <th>2</th>\n",
       "      <th>3</th>\n",
       "      <th>4</th>\n",
       "      <th>5</th>\n",
       "      <th>6</th>\n",
       "      <th>7</th>\n",
       "      <th>8</th>\n",
       "      <th>9</th>\n",
       "      <th>...</th>\n",
       "      <th>490</th>\n",
       "      <th>491</th>\n",
       "      <th>492</th>\n",
       "      <th>493</th>\n",
       "      <th>494</th>\n",
       "      <th>495</th>\n",
       "      <th>496</th>\n",
       "      <th>497</th>\n",
       "      <th>498</th>\n",
       "      <th>499</th>\n",
       "    </tr>\n",
       "  </thead>\n",
       "  <tbody>\n",
       "    <tr>\n",
       "      <th>0</th>\n",
       "      <td>1.000000</td>\n",
       "      <td>1.000000</td>\n",
       "      <td>1.000000</td>\n",
       "      <td>1.000000</td>\n",
       "      <td>1.000000</td>\n",
       "      <td>1.000000</td>\n",
       "      <td>1.000000</td>\n",
       "      <td>1.000000</td>\n",
       "      <td>1.000000</td>\n",
       "      <td>1.000000</td>\n",
       "      <td>...</td>\n",
       "      <td>1.000000</td>\n",
       "      <td>1.000000</td>\n",
       "      <td>1.000000</td>\n",
       "      <td>1.000000</td>\n",
       "      <td>1.000000</td>\n",
       "      <td>1.000000</td>\n",
       "      <td>1.000000</td>\n",
       "      <td>1.000000</td>\n",
       "      <td>1.000000</td>\n",
       "      <td>1.000000</td>\n",
       "    </tr>\n",
       "    <tr>\n",
       "      <th>1</th>\n",
       "      <td>1.001645</td>\n",
       "      <td>1.000212</td>\n",
       "      <td>1.000632</td>\n",
       "      <td>1.004930</td>\n",
       "      <td>0.996508</td>\n",
       "      <td>1.007818</td>\n",
       "      <td>1.004890</td>\n",
       "      <td>0.993855</td>\n",
       "      <td>1.001833</td>\n",
       "      <td>1.008101</td>\n",
       "      <td>...</td>\n",
       "      <td>0.986767</td>\n",
       "      <td>0.998726</td>\n",
       "      <td>1.003355</td>\n",
       "      <td>1.000315</td>\n",
       "      <td>1.003136</td>\n",
       "      <td>0.994487</td>\n",
       "      <td>0.996841</td>\n",
       "      <td>1.003673</td>\n",
       "      <td>0.998008</td>\n",
       "      <td>1.014867</td>\n",
       "    </tr>\n",
       "    <tr>\n",
       "      <th>2</th>\n",
       "      <td>1.003427</td>\n",
       "      <td>1.006807</td>\n",
       "      <td>1.007854</td>\n",
       "      <td>1.009037</td>\n",
       "      <td>0.995129</td>\n",
       "      <td>1.008242</td>\n",
       "      <td>1.005707</td>\n",
       "      <td>1.008049</td>\n",
       "      <td>0.999865</td>\n",
       "      <td>1.009579</td>\n",
       "      <td>...</td>\n",
       "      <td>0.985039</td>\n",
       "      <td>1.002253</td>\n",
       "      <td>0.997119</td>\n",
       "      <td>1.000292</td>\n",
       "      <td>1.021583</td>\n",
       "      <td>0.987814</td>\n",
       "      <td>0.997421</td>\n",
       "      <td>1.001269</td>\n",
       "      <td>0.998753</td>\n",
       "      <td>1.027237</td>\n",
       "    </tr>\n",
       "    <tr>\n",
       "      <th>3</th>\n",
       "      <td>1.011444</td>\n",
       "      <td>1.009145</td>\n",
       "      <td>1.010158</td>\n",
       "      <td>1.013859</td>\n",
       "      <td>0.998362</td>\n",
       "      <td>1.000312</td>\n",
       "      <td>0.997954</td>\n",
       "      <td>1.012429</td>\n",
       "      <td>1.002678</td>\n",
       "      <td>1.008895</td>\n",
       "      <td>...</td>\n",
       "      <td>0.989381</td>\n",
       "      <td>1.001917</td>\n",
       "      <td>1.000302</td>\n",
       "      <td>0.996074</td>\n",
       "      <td>1.019002</td>\n",
       "      <td>0.988931</td>\n",
       "      <td>0.998082</td>\n",
       "      <td>1.002838</td>\n",
       "      <td>1.001403</td>\n",
       "      <td>1.033092</td>\n",
       "    </tr>\n",
       "    <tr>\n",
       "      <th>4</th>\n",
       "      <td>1.006670</td>\n",
       "      <td>1.016240</td>\n",
       "      <td>1.004289</td>\n",
       "      <td>1.016365</td>\n",
       "      <td>0.996622</td>\n",
       "      <td>1.000182</td>\n",
       "      <td>0.999705</td>\n",
       "      <td>1.006649</td>\n",
       "      <td>1.010591</td>\n",
       "      <td>1.009407</td>\n",
       "      <td>...</td>\n",
       "      <td>0.993693</td>\n",
       "      <td>0.994469</td>\n",
       "      <td>0.990903</td>\n",
       "      <td>1.001781</td>\n",
       "      <td>1.017021</td>\n",
       "      <td>0.988134</td>\n",
       "      <td>0.989176</td>\n",
       "      <td>1.010493</td>\n",
       "      <td>1.003487</td>\n",
       "      <td>1.034956</td>\n",
       "    </tr>\n",
       "    <tr>\n",
       "      <th>...</th>\n",
       "      <td>...</td>\n",
       "      <td>...</td>\n",
       "      <td>...</td>\n",
       "      <td>...</td>\n",
       "      <td>...</td>\n",
       "      <td>...</td>\n",
       "      <td>...</td>\n",
       "      <td>...</td>\n",
       "      <td>...</td>\n",
       "      <td>...</td>\n",
       "      <td>...</td>\n",
       "      <td>...</td>\n",
       "      <td>...</td>\n",
       "      <td>...</td>\n",
       "      <td>...</td>\n",
       "      <td>...</td>\n",
       "      <td>...</td>\n",
       "      <td>...</td>\n",
       "      <td>...</td>\n",
       "      <td>...</td>\n",
       "      <td>...</td>\n",
       "    </tr>\n",
       "    <tr>\n",
       "      <th>7556</th>\n",
       "      <td>609.939192</td>\n",
       "      <td>786.784625</td>\n",
       "      <td>1253.937152</td>\n",
       "      <td>921.886008</td>\n",
       "      <td>494.284726</td>\n",
       "      <td>726.029494</td>\n",
       "      <td>215.577069</td>\n",
       "      <td>660.446006</td>\n",
       "      <td>1190.354731</td>\n",
       "      <td>634.443459</td>\n",
       "      <td>...</td>\n",
       "      <td>831.722549</td>\n",
       "      <td>689.009733</td>\n",
       "      <td>872.899119</td>\n",
       "      <td>399.578308</td>\n",
       "      <td>444.452781</td>\n",
       "      <td>329.264938</td>\n",
       "      <td>588.077865</td>\n",
       "      <td>387.265039</td>\n",
       "      <td>1088.614030</td>\n",
       "      <td>882.629516</td>\n",
       "    </tr>\n",
       "    <tr>\n",
       "      <th>7557</th>\n",
       "      <td>617.730861</td>\n",
       "      <td>781.549579</td>\n",
       "      <td>1247.487177</td>\n",
       "      <td>923.879233</td>\n",
       "      <td>493.693549</td>\n",
       "      <td>724.508449</td>\n",
       "      <td>213.297474</td>\n",
       "      <td>661.220837</td>\n",
       "      <td>1193.173272</td>\n",
       "      <td>630.792236</td>\n",
       "      <td>...</td>\n",
       "      <td>834.986736</td>\n",
       "      <td>684.710007</td>\n",
       "      <td>870.098292</td>\n",
       "      <td>401.351318</td>\n",
       "      <td>444.196987</td>\n",
       "      <td>332.039319</td>\n",
       "      <td>589.267316</td>\n",
       "      <td>385.615248</td>\n",
       "      <td>1085.046087</td>\n",
       "      <td>878.753651</td>\n",
       "    </tr>\n",
       "    <tr>\n",
       "      <th>7558</th>\n",
       "      <td>618.983619</td>\n",
       "      <td>787.429098</td>\n",
       "      <td>1248.872341</td>\n",
       "      <td>923.539253</td>\n",
       "      <td>494.508573</td>\n",
       "      <td>721.571837</td>\n",
       "      <td>214.463686</td>\n",
       "      <td>660.940783</td>\n",
       "      <td>1192.580693</td>\n",
       "      <td>626.636671</td>\n",
       "      <td>...</td>\n",
       "      <td>835.261255</td>\n",
       "      <td>681.109640</td>\n",
       "      <td>871.490752</td>\n",
       "      <td>401.417637</td>\n",
       "      <td>445.381389</td>\n",
       "      <td>332.312165</td>\n",
       "      <td>585.662766</td>\n",
       "      <td>386.873289</td>\n",
       "      <td>1086.464960</td>\n",
       "      <td>879.853079</td>\n",
       "    </tr>\n",
       "    <tr>\n",
       "      <th>7559</th>\n",
       "      <td>619.665189</td>\n",
       "      <td>782.962209</td>\n",
       "      <td>1258.763630</td>\n",
       "      <td>926.981374</td>\n",
       "      <td>499.105478</td>\n",
       "      <td>720.225101</td>\n",
       "      <td>214.928826</td>\n",
       "      <td>664.497833</td>\n",
       "      <td>1192.303845</td>\n",
       "      <td>623.672011</td>\n",
       "      <td>...</td>\n",
       "      <td>845.640982</td>\n",
       "      <td>684.231714</td>\n",
       "      <td>875.621036</td>\n",
       "      <td>405.868634</td>\n",
       "      <td>448.006652</td>\n",
       "      <td>332.182314</td>\n",
       "      <td>590.264497</td>\n",
       "      <td>386.048083</td>\n",
       "      <td>1077.866212</td>\n",
       "      <td>875.975378</td>\n",
       "    </tr>\n",
       "    <tr>\n",
       "      <th>7560</th>\n",
       "      <td>621.037401</td>\n",
       "      <td>778.224406</td>\n",
       "      <td>1261.291967</td>\n",
       "      <td>921.929271</td>\n",
       "      <td>499.693325</td>\n",
       "      <td>720.334448</td>\n",
       "      <td>214.913563</td>\n",
       "      <td>666.648694</td>\n",
       "      <td>1194.238590</td>\n",
       "      <td>627.136524</td>\n",
       "      <td>...</td>\n",
       "      <td>846.497753</td>\n",
       "      <td>677.551447</td>\n",
       "      <td>881.450747</td>\n",
       "      <td>405.240980</td>\n",
       "      <td>446.148649</td>\n",
       "      <td>332.223467</td>\n",
       "      <td>593.772968</td>\n",
       "      <td>385.136944</td>\n",
       "      <td>1078.852374</td>\n",
       "      <td>879.258290</td>\n",
       "    </tr>\n",
       "  </tbody>\n",
       "</table>\n",
       "<p>7561 rows × 500 columns</p>\n",
       "</div>"
      ],
      "text/plain": [
       "             0           1            2           3           4           5    \\\n",
       "0       1.000000    1.000000     1.000000    1.000000    1.000000    1.000000   \n",
       "1       1.001645    1.000212     1.000632    1.004930    0.996508    1.007818   \n",
       "2       1.003427    1.006807     1.007854    1.009037    0.995129    1.008242   \n",
       "3       1.011444    1.009145     1.010158    1.013859    0.998362    1.000312   \n",
       "4       1.006670    1.016240     1.004289    1.016365    0.996622    1.000182   \n",
       "...          ...         ...          ...         ...         ...         ...   \n",
       "7556  609.939192  786.784625  1253.937152  921.886008  494.284726  726.029494   \n",
       "7557  617.730861  781.549579  1247.487177  923.879233  493.693549  724.508449   \n",
       "7558  618.983619  787.429098  1248.872341  923.539253  494.508573  721.571837   \n",
       "7559  619.665189  782.962209  1258.763630  926.981374  499.105478  720.225101   \n",
       "7560  621.037401  778.224406  1261.291967  921.929271  499.693325  720.334448   \n",
       "\n",
       "             6           7            8           9    ...         490  \\\n",
       "0       1.000000    1.000000     1.000000    1.000000  ...    1.000000   \n",
       "1       1.004890    0.993855     1.001833    1.008101  ...    0.986767   \n",
       "2       1.005707    1.008049     0.999865    1.009579  ...    0.985039   \n",
       "3       0.997954    1.012429     1.002678    1.008895  ...    0.989381   \n",
       "4       0.999705    1.006649     1.010591    1.009407  ...    0.993693   \n",
       "...          ...         ...          ...         ...  ...         ...   \n",
       "7556  215.577069  660.446006  1190.354731  634.443459  ...  831.722549   \n",
       "7557  213.297474  661.220837  1193.173272  630.792236  ...  834.986736   \n",
       "7558  214.463686  660.940783  1192.580693  626.636671  ...  835.261255   \n",
       "7559  214.928826  664.497833  1192.303845  623.672011  ...  845.640982   \n",
       "7560  214.913563  666.648694  1194.238590  627.136524  ...  846.497753   \n",
       "\n",
       "             491         492         493         494         495         496  \\\n",
       "0       1.000000    1.000000    1.000000    1.000000    1.000000    1.000000   \n",
       "1       0.998726    1.003355    1.000315    1.003136    0.994487    0.996841   \n",
       "2       1.002253    0.997119    1.000292    1.021583    0.987814    0.997421   \n",
       "3       1.001917    1.000302    0.996074    1.019002    0.988931    0.998082   \n",
       "4       0.994469    0.990903    1.001781    1.017021    0.988134    0.989176   \n",
       "...          ...         ...         ...         ...         ...         ...   \n",
       "7556  689.009733  872.899119  399.578308  444.452781  329.264938  588.077865   \n",
       "7557  684.710007  870.098292  401.351318  444.196987  332.039319  589.267316   \n",
       "7558  681.109640  871.490752  401.417637  445.381389  332.312165  585.662766   \n",
       "7559  684.231714  875.621036  405.868634  448.006652  332.182314  590.264497   \n",
       "7560  677.551447  881.450747  405.240980  446.148649  332.223467  593.772968   \n",
       "\n",
       "             497          498         499  \n",
       "0       1.000000     1.000000    1.000000  \n",
       "1       1.003673     0.998008    1.014867  \n",
       "2       1.001269     0.998753    1.027237  \n",
       "3       1.002838     1.001403    1.033092  \n",
       "4       1.010493     1.003487    1.034956  \n",
       "...          ...          ...         ...  \n",
       "7556  387.265039  1088.614030  882.629516  \n",
       "7557  385.615248  1085.046087  878.753651  \n",
       "7558  386.873289  1086.464960  879.853079  \n",
       "7559  386.048083  1077.866212  875.975378  \n",
       "7560  385.136944  1078.852374  879.258290  \n",
       "\n",
       "[7561 rows x 500 columns]"
      ]
     },
     "execution_count": 17,
     "metadata": {},
     "output_type": "execute_result"
    }
   ],
   "source": [
    "# Running a Monte Carlo simulation to forecast 30 years cumulative returns\n",
    "MC_30_years.calc_cumulative_return()"
   ]
  },
  {
   "cell_type": "code",
   "execution_count": 18,
   "metadata": {},
   "outputs": [
    {
     "data": {
      "image/png": "[encoded data removed]",
      "text/plain": [
       "<Figure size 432x288 with 1 Axes>"
      ]
     },
     "metadata": {
      "needs_background": "light"
     },
     "output_type": "display_data"
    }
   ],
   "source": [
    "# Plot simulation outcomes\n",
    "sim_plot = MC_30_years.plot_simulation()"
   ]
  },
  {
   "cell_type": "code",
   "execution_count": 19,
   "metadata": {},
   "outputs": [
    {
     "data": {
      "image/png": "[encoded data removed]",
      "text/plain": [
       "<Figure size 432x288 with 1 Axes>"
      ]
     },
     "metadata": {
      "needs_background": "light"
     },
     "output_type": "display_data"
    }
   ],
   "source": [
    "# Plot probability distribution and confidence intervals\n",
    "dist_plot = MC_30_years.plot_distribution()"
   ]
  },
  {
   "cell_type": "markdown",
   "metadata": {},
   "source": [
    "### Retirement Analysis"
   ]
  },
  {
   "cell_type": "code",
   "execution_count": 20,
   "metadata": {},
   "outputs": [
    {
     "data": {
      "text/plain": [
       "count            500.000000\n",
       "mean             686.532582\n",
       "std              328.911201\n",
       "min              144.874490\n",
       "25%              446.043028\n",
       "50%              619.351543\n",
       "75%              873.755151\n",
       "max             2032.794509\n",
       "95% CI Lower     243.394438\n",
       "95% CI Upper    1523.489265\n",
       "Name: 7560, dtype: float64"
      ]
     },
     "execution_count": 20,
     "metadata": {},
     "output_type": "execute_result"
    }
   ],
   "source": [
    "# Fetch summary statistics from the Monte Carlo simulation results\n",
    "summary = MC_30_years.summarize_cumulative_return()\n",
    "\n",
    "# Print summary statistics\n",
    "summary"
   ]
  },
  {
   "cell_type": "markdown",
   "metadata": {},
   "source": [
    "### Calculate the expected portfolio return at the 95% lower and upper confidence intervals based on a `$20,000` initial investment."
   ]
  },
  {
   "cell_type": "code",
   "execution_count": 21,
   "metadata": {},
   "outputs": [
    {
     "name": "stdout",
     "output_type": "stream",
     "text": [
      "There is a 95% chance that an initial investment of $20000 in the portfolio over the next 30 years will end within in the range of $4867888.76 and $30469785.29\n"
     ]
    }
   ],
   "source": [
    "# Set initial investment\n",
    "initial_investment = 20000\n",
    "\n",
    "# Use the lower and upper `95%` confidence intervals to calculate the range of the possible outcomes of our $20,000\n",
    "ci_lower = round(summary[8]*initial_investment,2)\n",
    "ci_upper = round(summary[9]*initial_investment,2)\n",
    "\n",
    "# Print results\n",
    "print(f\"There is a 95% chance that an initial investment of ${initial_investment} in the portfolio\"\n",
    "      f\" over the next 30 years will end within in the range of\"\n",
    "      f\" ${ci_lower} and ${ci_upper}\")"
   ]
  },
  {
   "cell_type": "markdown",
   "metadata": {},
   "source": [
    "### Calculate the expected portfolio return at the `95%` lower and upper confidence intervals based on a `50%` increase in the initial investment."
   ]
  },
  {
   "cell_type": "code",
   "execution_count": 22,
   "metadata": {},
   "outputs": [
    {
     "name": "stdout",
     "output_type": "stream",
     "text": [
      "There is a 95% chance that an initial investment of $30000.0 in the portfolio over the next 30 years will end within in the range of $7301833.14 and $45704677.94\n"
     ]
    }
   ],
   "source": [
    "# Set initial investment\n",
    "initial_investment = 20000 * 1.5\n",
    "\n",
    "# Use the lower and upper `95%` confidence intervals to calculate the range of the possible outcomes of our $30,000\n",
    "ci_lower = round(summary[8]*initial_investment,2)\n",
    "ci_upper = round(summary[9]*initial_investment,2)\n",
    "\n",
    "# Print results\n",
    "print(f\"There is a 95% chance that an initial investment of ${initial_investment} in the portfolio\"\n",
    "      f\" over the next 30 years will end within in the range of\"\n",
    "      f\" ${ci_lower} and ${ci_upper}\")"
   ]
  },
  {
   "cell_type": "markdown",
   "metadata": {},
   "source": [
    "## Optional Challenge - Early Retirement\n",
    "\n",
    "\n",
    "### Five Years Retirement Option"
   ]
  },
  {
   "cell_type": "code",
   "execution_count": 76,
   "metadata": {},
   "outputs": [],
   "source": [
    "# Configuring a Monte Carlo simulation to forecast 5 years cumulative returns\n",
    "# YOUR CODE HERE!"
   ]
  },
  {
   "cell_type": "code",
   "execution_count": 77,
   "metadata": {},
   "outputs": [],
   "source": [
    "# Running a Monte Carlo simulation to forecast 5 years cumulative returns\n",
    "# YOUR CODE HERE!"
   ]
  },
  {
   "cell_type": "code",
   "execution_count": 78,
   "metadata": {},
   "outputs": [],
   "source": [
    "# Plot simulation outcomes\n",
    "# YOUR CODE HERE!"
   ]
  },
  {
   "cell_type": "code",
   "execution_count": 79,
   "metadata": {},
   "outputs": [],
   "source": [
    "# Plot probability distribution and confidence intervals\n",
    "# YOUR CODE HERE!"
   ]
  },
  {
   "cell_type": "code",
   "execution_count": 80,
   "metadata": {},
   "outputs": [],
   "source": [
    "# Fetch summary statistics from the Monte Carlo simulation results\n",
    "# YOUR CODE HERE!\n",
    "\n",
    "# Print summary statistics\n",
    "# YOUR CODE HERE!"
   ]
  },
  {
   "cell_type": "code",
   "execution_count": 81,
   "metadata": {},
   "outputs": [
    {
     "ename": "NameError",
     "evalue": "name 'ci_lower_five' is not defined",
     "output_type": "error",
     "traceback": [
      "\u001b[1;31m---------------------------------------------------------------------------\u001b[0m",
      "\u001b[1;31mNameError\u001b[0m                                 Traceback (most recent call last)",
      "\u001b[1;32m<ipython-input-81-d56b774f48d0>\u001b[0m in \u001b[0;36m<module>\u001b[1;34m\u001b[0m\n\u001b[0;32m      6\u001b[0m \u001b[1;33m\u001b[0m\u001b[0m\n\u001b[0;32m      7\u001b[0m \u001b[1;31m# Print results\u001b[0m\u001b[1;33m\u001b[0m\u001b[1;33m\u001b[0m\u001b[1;33m\u001b[0m\u001b[0m\n\u001b[1;32m----> 8\u001b[1;33m print(f\"There is a 95% chance that an initial investment of ${initial_investment} in the portfolio\"\n\u001b[0m\u001b[0;32m      9\u001b[0m       \u001b[1;34mf\" over the next 5 years will end within in the range of\"\u001b[0m\u001b[1;33m\u001b[0m\u001b[1;33m\u001b[0m\u001b[0m\n\u001b[0;32m     10\u001b[0m       f\" ${ci_lower_five} and ${ci_upper_five}\")\n",
      "\u001b[1;31mNameError\u001b[0m: name 'ci_lower_five' is not defined"
     ]
    }
   ],
   "source": [
    "# Set initial investment\n",
    "# YOUR CODE HERE!\n",
    "\n",
    "# Use the lower and upper `95%` confidence intervals to calculate the range of the possible outcomes of our $60,000\n",
    "# YOUR CODE HERE!\n",
    "\n",
    "# Print results\n",
    "print(f\"There is a 95% chance that an initial investment of ${initial_investment} in the portfolio\"\n",
    "      f\" over the next 5 years will end within in the range of\"\n",
    "      f\" ${ci_lower_five} and ${ci_upper_five}\")"
   ]
  },
  {
   "cell_type": "markdown",
   "metadata": {},
   "source": [
    "### Ten Years Retirement Option"
   ]
  },
  {
   "cell_type": "code",
   "execution_count": null,
   "metadata": {},
   "outputs": [],
   "source": [
    "# Configuring a Monte Carlo simulation to forecast 10 years cumulative returns\n",
    "# YOUR CODE HERE!"
   ]
  },
  {
   "cell_type": "code",
   "execution_count": null,
   "metadata": {},
   "outputs": [],
   "source": [
    "# Running a Monte Carlo simulation to forecast 10 years cumulative returns\n",
    "# YOUR CODE HERE!"
   ]
  },
  {
   "cell_type": "code",
   "execution_count": null,
   "metadata": {},
   "outputs": [],
   "source": [
    "# Plot simulation outcomes\n",
    "# YOUR CODE HERE!"
   ]
  },
  {
   "cell_type": "code",
   "execution_count": null,
   "metadata": {},
   "outputs": [],
   "source": [
    "# Plot probability distribution and confidence intervals\n",
    "# YOUR CODE HERE!"
   ]
  },
  {
   "cell_type": "code",
   "execution_count": null,
   "metadata": {},
   "outputs": [],
   "source": [
    "# Fetch summary statistics from the Monte Carlo simulation results\n",
    "# YOUR CODE HERE!\n",
    "\n",
    "# Print summary statistics\n",
    "# YOUR CODE HERE!"
   ]
  },
  {
   "cell_type": "code",
   "execution_count": null,
   "metadata": {},
   "outputs": [],
   "source": [
    "# Set initial investment\n",
    "# YOUR CODE HERE!\n",
    "\n",
    "# Use the lower and upper `95%` confidence intervals to calculate the range of the possible outcomes of our $60,000\n",
    "# YOUR CODE HERE!\n",
    "\n",
    "# Print results\n",
    "print(f\"There is a 95% chance that an initial investment of ${initial_investment} in the portfolio\"\n",
    "      f\" over the next 10 years will end within in the range of\"\n",
    "      f\" ${ci_lower_ten} and ${ci_upper_ten}\")"
   ]
  }
 ],
 "metadata": {
  "kernelspec": {
   "display_name": "Python 3",
   "language": "python",
   "name": "python3"
  },
  "language_info": {
   "codemirror_mode": {
    "name": "ipython",
    "version": 3
   },
   "file_extension": ".py",
   "mimetype": "text/x-python",
   "name": "python",
   "nbconvert_exporter": "python",
   "pygments_lexer": "ipython3",
   "version": "3.8.5"
  }
 },
 "nbformat": 4,
 "nbformat_minor": 4
}
